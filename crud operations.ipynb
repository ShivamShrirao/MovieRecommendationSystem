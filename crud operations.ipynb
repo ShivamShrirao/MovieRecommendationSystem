{
 "cells": [
  {
   "cell_type": "code",
   "execution_count": 1,
   "metadata": {},
   "outputs": [],
   "source": [
    "import pymongo"
   ]
  },
  {
   "cell_type": "code",
   "execution_count": 3,
   "metadata": {},
   "outputs": [],
   "source": [
    "Client = pymongo.MongoClient('mongodb://127.0.0.1:27017/')"
   ]
  },
  {
   "cell_type": "code",
   "execution_count": 4,
   "metadata": {},
   "outputs": [],
   "source": []
  },
  {
   "cell_type": "code",
   "execution_count": 5,
   "metadata": {},
   "outputs": [],
   "source": []
  },
  {
   "cell_type": "code",
   "execution_count": 46,
   "metadata": {},
   "outputs": [],
   "source": [
    "entry1 = {'adult':\n",
    "\"False\",\n",
    "'belongs_to_collection'\n",
    ":\n",
    "'NaN',\n",
    "'budget'\n",
    ":\n",
    "\"65000000\",\n",
    "'genres'\n",
    ":'NaN',\n",
    "'homepage'\n",
    ":\n",
    "'NaN',\n",
    "'id'\n",
    ":\n",
    "18888888,\n",
    "'imdb_id'\n",
    ":\n",
    "\"tt0113497\",\n",
    "'original_language'\n",
    ":\n",
    "\"en\",\n",
    "'original_title'\n",
    ":\n",
    "\"johny cryer\",\n",
    "'overview'\n",
    ":\n",
    "\"When siblings Judy and Peter discover an enchanted board game that ope...\",\n",
    "'popularity'\n",
    ":\n",
    "\"17.015539\",\n",
    "'poster_path'\n",
    ":\n",
    "\"/bdHG5Mo83VPobeZZdlSz0Y7HQHB.jpg\",\n",
    "'production_companies'\n",
    ":\n",
    "\"[{'name': 'TriStar Pictures', 'id': 559}, {'name': 'Teitler Film', 'id...\",\n",
    "'production_countries'\n",
    ":\n",
    "\"[{'iso_3166_1': 'US', 'name': 'United States of America'}]\",\n",
    "'release_date'\n",
    ":\n",
    "\"1995-12-15\",\n",
    "'revenue'\n",
    ":\n",
    "262797249,\n",
    "'runtime'\n",
    ":\n",
    "104,\n",
    "'spoken_languages'\n",
    ":\n",
    "\"[{'iso_639_1': 'en', 'name': 'English'}, {'iso_639_1': 'fr', 'name': '...\",\n",
    "'status'\n",
    ":\n",
    "\"Released\",\n",
    "'tagline'\n",
    ":\n",
    "\"Roll the dice and unleash the excitement!\",\n",
    "'title'\n",
    ":\n",
    "\"johny cryer\",\n",
    "'video'\n",
    ":\n",
    "'false',\n",
    "'vote_average'\n",
    ":\n",
    "6.9,\n",
    "'vote_count'\n",
    ":\n",
    "2413,\n",
    "'cast'\n",
    ":'NaN',\n",
    "'keywords'\n",
    ":\n",
    "'NaN',\n",
    "'director'\n",
    ":\n",
    "\"Joe Johnston\",\n",
    "'soup'\n",
    ":\n",
    "\"when siblings judy and peter discover an enchanted board game that ope...\",\n",
    "'idx'\n",
    ":\n",
    "1,\n",
    "'vote_weight'\n",
    ":\n",
    "7926.922170000001}"
   ]
  },
  {
   "cell_type": "code",
   "execution_count": null,
   "metadata": {},
   "outputs": [],
   "source": [
    "\n",
    "\n"
   ]
  },
  {
   "cell_type": "code",
   "execution_count": null,
   "metadata": {},
   "outputs": [],
   "source": []
  },
  {
   "cell_type": "code",
   "execution_count": 30,
   "metadata": {},
   "outputs": [],
   "source": [
    "mydb = Client['crud']"
   ]
  },
  {
   "cell_type": "code",
   "execution_count": 31,
   "metadata": {},
   "outputs": [],
   "source": [
    "movies = mydb['movies']"
   ]
  },
  {
   "cell_type": "code",
   "execution_count": 33,
   "metadata": {},
   "outputs": [
    {
     "name": "stderr",
     "output_type": "stream",
     "text": [
      "C:\\Users\\admin\\Anaconda3\\lib\\site-packages\\ipykernel_launcher.py:1: DeprecationWarning: insert is deprecated. Use insert_one or insert_many instead.\n",
      "  \"\"\"Entry point for launching an IPython kernel.\n"
     ]
    },
    {
     "data": {
      "text/plain": [
       "ObjectId('5f5de50b5d1875d298d62c28')"
      ]
     },
     "execution_count": 33,
     "metadata": {},
     "output_type": "execute_result"
    }
   ],
   "source": [
    "movies.insert({'name':\"JOHN WICK\", 'RATING': 5})"
   ]
  },
  {
   "cell_type": "code",
   "execution_count": null,
   "metadata": {},
   "outputs": [],
   "source": []
  },
  {
   "cell_type": "code",
   "execution_count": 47,
   "metadata": {},
   "outputs": [
    {
     "name": "stderr",
     "output_type": "stream",
     "text": [
      "C:\\Users\\admin\\Anaconda3\\lib\\site-packages\\ipykernel_launcher.py:1: DeprecationWarning: insert is deprecated. Use insert_one or insert_many instead.\n",
      "  \"\"\"Entry point for launching an IPython kernel.\n"
     ]
    },
    {
     "data": {
      "text/plain": [
       "ObjectId('5f5de6cc5d1875d298d62c29')"
      ]
     },
     "execution_count": 47,
     "metadata": {},
     "output_type": "execute_result"
    }
   ],
   "source": [
    "movies.insert(entry1)"
   ]
  },
  {
   "cell_type": "code",
   "execution_count": 43,
   "metadata": {},
   "outputs": [
    {
     "data": {
      "text/plain": [
       "{'_id': ObjectId('5f5de50b5d1875d298d62c28'), 'name': 'JOHN WICK', 'RATING': 5}"
      ]
     },
     "execution_count": 43,
     "metadata": {},
     "output_type": "execute_result"
    }
   ],
   "source": [
    "movies.find_one()"
   ]
  },
  {
   "cell_type": "code",
   "execution_count": 44,
   "metadata": {},
   "outputs": [
    {
     "data": {
      "text/plain": [
       "<pymongo.results.UpdateResult at 0x28ca740fd88>"
      ]
     },
     "execution_count": 44,
     "metadata": {},
     "output_type": "execute_result"
    }
   ],
   "source": [
    "myquery = { \"name\": \"JOHN WICK\" }\n",
    "newvalues = { \"$set\": { \"name\": \"JOHNY WICKIPEDIA\" } }\n",
    "\n",
    "movies.update_one(myquery, newvalues)"
   ]
  },
  {
   "cell_type": "code",
   "execution_count": 45,
   "metadata": {},
   "outputs": [
    {
     "data": {
      "text/plain": [
       "{'_id': ObjectId('5f5de50b5d1875d298d62c28'),\n",
       " 'name': 'JOHNY WICKIPEDIA',\n",
       " 'RATING': 5}"
      ]
     },
     "execution_count": 45,
     "metadata": {},
     "output_type": "execute_result"
    }
   ],
   "source": [
    "movies.find_one()"
   ]
  },
  {
   "cell_type": "code",
   "execution_count": 48,
   "metadata": {},
   "outputs": [
    {
     "data": {
      "text/plain": [
       "<pymongo.results.DeleteResult at 0x28ca71f5048>"
      ]
     },
     "execution_count": 48,
     "metadata": {},
     "output_type": "execute_result"
    }
   ],
   "source": [
    "myquery = { \"name\": \"JOHNY WICKIPEDIA\" }\n",
    "movies.delete_one(myquery)"
   ]
  },
  {
   "cell_type": "code",
   "execution_count": 49,
   "metadata": {},
   "outputs": [
    {
     "data": {
      "text/plain": [
       "{'_id': ObjectId('5f5de23e5d1875d298d62c27'),\n",
       " 'adult': 'False',\n",
       " 'belongs_to_collection': 'NaN',\n",
       " 'budget': '65000000',\n",
       " 'genres': 'NaN',\n",
       " 'homepage': 'NaN',\n",
       " 'id': 18888888,\n",
       " 'imdb_id': 'tt0113497',\n",
       " 'original_language': 'en',\n",
       " 'original_title': 'johny cryer',\n",
       " 'overview': 'When siblings Judy and Peter discover an enchanted board game that ope...',\n",
       " 'popularity': '17.015539',\n",
       " 'poster_path': '/bdHG5Mo83VPobeZZdlSz0Y7HQHB.jpg',\n",
       " 'production_companies': \"[{'name': 'TriStar Pictures', 'id': 559}, {'name': 'Teitler Film', 'id...\",\n",
       " 'production_countries': \"[{'iso_3166_1': 'US', 'name': 'United States of America'}]\",\n",
       " 'release_date': '1995-12-15',\n",
       " 'revenue': 262797249,\n",
       " 'runtime': 104,\n",
       " 'spoken_languages': \"[{'iso_639_1': 'en', 'name': 'English'}, {'iso_639_1': 'fr', 'name': '...\",\n",
       " 'status': 'Released',\n",
       " 'tagline': 'Roll the dice and unleash the excitement!',\n",
       " 'title': 'johny cryer',\n",
       " 'video': 'false',\n",
       " 'vote_average': 6.9,\n",
       " 'vote_count': 2413,\n",
       " 'cast': 'NaN',\n",
       " 'keywords': 'NaN',\n",
       " 'director': 'Joe Johnston',\n",
       " 'soup': 'when siblings judy and peter discover an enchanted board game that ope...',\n",
       " 'idx': 1,\n",
       " 'vote_weight': 7926.922170000001}"
      ]
     },
     "execution_count": 49,
     "metadata": {},
     "output_type": "execute_result"
    }
   ],
   "source": [
    "movies.find_one()"
   ]
  },
  {
   "cell_type": "code",
   "execution_count": 50,
   "metadata": {},
   "outputs": [
    {
     "name": "stderr",
     "output_type": "stream",
     "text": [
      "C:\\Users\\admin\\Anaconda3\\lib\\site-packages\\ipykernel_launcher.py:1: DeprecationWarning: count is deprecated. Use Collection.count_documents instead.\n",
      "  \"\"\"Entry point for launching an IPython kernel.\n"
     ]
    },
    {
     "data": {
      "text/plain": [
       "2"
      ]
     },
     "execution_count": 50,
     "metadata": {},
     "output_type": "execute_result"
    }
   ],
   "source": [
    "movies.find().count()"
   ]
  },
  {
   "cell_type": "code",
   "execution_count": null,
   "metadata": {},
   "outputs": [],
   "source": []
  }
 ],
 "metadata": {
  "kernelspec": {
   "display_name": "Python 3",
   "language": "python",
   "name": "python3"
  },
  "language_info": {
   "codemirror_mode": {
    "name": "ipython",
    "version": 3
   },
   "file_extension": ".py",
   "mimetype": "text/x-python",
   "name": "python",
   "nbconvert_exporter": "python",
   "pygments_lexer": "ipython3",
   "version": "3.7.4"
  }
 },
 "nbformat": 4,
 "nbformat_minor": 2
}
